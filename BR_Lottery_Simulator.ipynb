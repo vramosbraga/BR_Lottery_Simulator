{
  "nbformat": 4,
  "nbformat_minor": 0,
  "metadata": {
    "colab": {
      "provenance": [],
      "authorship_tag": "ABX9TyOJ+FC3ptlI60pAd4HaqcfA",
      "include_colab_link": true
    },
    "kernelspec": {
      "name": "python3",
      "display_name": "Python 3"
    },
    "language_info": {
      "name": "python"
    }
  },
  "cells": [
    {
      "cell_type": "markdown",
      "metadata": {
        "id": "view-in-github",
        "colab_type": "text"
      },
      "source": [
        "<a href=\"https://colab.research.google.com/github/vramosbraga/BR_Lottery_Simulator/blob/main/BR_Lottery_Simulator.ipynb\" target=\"_parent\"><img src=\"https://colab.research.google.com/assets/colab-badge.svg\" alt=\"Open In Colab\"/></a>"
      ]
    },
    {
      "cell_type": "markdown",
      "source": [
        "The below code draw [p] random numbers from a list with the numbers ranging from 1 to [n]"
      ],
      "metadata": {
        "id": "p_bZXDESA_nM"
      }
    },
    {
      "cell_type": "code",
      "execution_count": 17,
      "metadata": {
        "colab": {
          "base_uri": "https://localhost:8080/"
        },
        "id": "QEU-3hwWA-FV",
        "outputId": "c9302b6f-9978-4d94-87fa-9dd50e84f98c"
      },
      "outputs": [
        {
          "output_type": "stream",
          "name": "stdout",
          "text": [
            "Available lottery options:\n",
            "megasena\n",
            "lotofacil\n",
            "lotomania\n",
            "quina\n",
            "Select the lottery you want to simulate: quina\n",
            "Select the number of games you want to generate: 2\n",
            "Sorted order: [16, 22, 27, 32, 45]\n",
            "Sorted order: [2, 18, 21, 32, 37]\n"
          ]
        }
      ],
      "source": [
        "# Function to generate a random tuple of numbers for a lottery simulation\n",
        "def generate_random_tuple(n, p):\n",
        "    # Import necessary modules\n",
        "    import itertools\n",
        "    import random\n",
        "\n",
        "    # Create a list of numbers from 1 to n\n",
        "    my_list = [i for i in range(1, n + 1)]\n",
        "    drawn_numbers = []  # List to store drawn numbers\n",
        "\n",
        "    # Function to consume an item from a specific position in an iterator\n",
        "    def consume_iterator(list):\n",
        "        # Create an iterator from the list\n",
        "        my_iterator = iter(list)\n",
        "\n",
        "        # Choose a random position to consume an item\n",
        "        item_pos = random.randint(0, len(list) - 1)\n",
        "\n",
        "        # Create a new list without the drawn item\n",
        "        new_list = []\n",
        "        if item_pos != 0:\n",
        "            for _ in range(0, item_pos):\n",
        "                new_list.append(next(my_iterator))\n",
        "        item = next(my_iterator)\n",
        "        drawn_numbers.append(item)\n",
        "        for _ in my_iterator:\n",
        "            new_list.append(_)\n",
        "\n",
        "        return new_list\n",
        "\n",
        "    # Draw numbers from the iterator 'p' times\n",
        "    for i in range(p):\n",
        "        my_list = consume_iterator(my_list)\n",
        "\n",
        "    print(\"Sorted order:\", sorted(drawn_numbers))\n",
        "\n",
        "    return tuple(sorted(drawn_numbers))\n",
        "\n",
        "# List of available lottery options\n",
        "list_draw = [\"megasena\", \"lotofacil\", \"lotomania\", \"quina\"]\n",
        "print(\"Available lottery options:\")\n",
        "for l in list_draw:\n",
        "    print(l)\n",
        "\n",
        "# Allow users select the type of lottery to simulate and validate the user's input\n",
        "while True:\n",
        "    draw = input(\"Select the lottery you want to simulate: \")\n",
        "    if draw.lower() in list_draw:\n",
        "        break\n",
        "    else:\n",
        "        print(\"\\nSelect one of the following options: megasena, lotofacil, lotomania, quina\")\n",
        "        continue\n",
        "\n",
        "# Dictionary containing the parameters for each type of lottery\n",
        "drawn_param = {\"megasena\": [60, 6], \"lotofacil\": [25, 15], \"lotomania\": [100, 50], \"quina\": [50, 5]}\n",
        "\n",
        "\n",
        "# Allow users select how many bets to simulate and validate the user's input\n",
        "while True:\n",
        "    bets = input(\"Select the number of games you want to generate: \")\n",
        "    try:\n",
        "      bets = int(bets)\n",
        "      if bets > 0:\n",
        "        break\n",
        "      else:\n",
        "        print(\"\\nMust be a positive integer number!\")\n",
        "        continue\n",
        "    except:\n",
        "      print(\"\\nMust be a positive integer number!\")\n",
        "      continue\n",
        "\n",
        "# Generate random tuples for the specified number of games\n",
        "for _ in range(bets):\n",
        "    generate_random_tuple(drawn_param[draw][0], drawn_param[draw][1])\n"
      ]
    }
  ]
}